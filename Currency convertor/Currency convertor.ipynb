{
 "cells": [
  {
   "cell_type": "markdown",
   "metadata": {},
   "source": [
    "### Python program to convert the currency of one currency value to that of another currency value\n",
    "\n",
    "Import the modules needed, Requests is a Python module that you can use to send all kinds of HTTP requests. \n",
    "\n",
    "It is an easy-to-use library with a lot of features ranging from passing parameters in URLs to sending custom headers and SSL Verification."
   ]
  },
  {
   "cell_type": "code",
   "execution_count": 1,
   "metadata": {},
   "outputs": [
    {
     "name": "stdout",
     "output_type": "stream",
     "text": [
      "Python program to convert the currency of one currency value to that of another currency value\n",
      "\n",
      "Note: please use Upper-case\n",
      "Example:- AUD, EUR, INR, USD, SUA\n",
      "\n",
      "From: AUD\n",
      "To : INR\n",
      "Amount: 555\n",
      "555 AUD = 31367.82 INR\n"
     ]
    }
   ],
   "source": [
    "import requests \n",
    "\n",
    "print(\"Python program to convert the currency of one currency value to that of another currency value\")\n",
    "print()\n",
    "print(\"Note: please use Upper-case\")\n",
    "print(\"Example:- AUD, EUR, INR, USD, SUA\")\n",
    "print()\n",
    "\n",
    "class Currency_convertor: \n",
    "    # Empty dictionary to store the exchange rates from json list\n",
    "    rates = {} \n",
    "    def __init__(self, url): \n",
    "        data = requests.get(url).json() \n",
    "\n",
    "        # Extracting the rates from the json list \n",
    "        self.rates = data[\"rates\"] \n",
    "\n",
    "    # Function to do the amount conversion  \n",
    "    def convert(self, from_currency, to_currency, amount): \n",
    "        initial_amount = amount \n",
    "        if from_currency != 'EUR' : \n",
    "            amount = amount / self.rates[from_currency] \n",
    "\n",
    "        # Amount calculation and rounding it to 2 decimal places \n",
    "        amount = round(amount * self.rates[to_currency], 2) \n",
    "    \n",
    "    #Output using format feature\n",
    "        print('{} {} = {} {}'.format(initial_amount, from_currency, amount, to_currency))\n",
    "\n",
    "# Driver code \n",
    "if __name__ == \"__main__\": \n",
    "\n",
    "    # Public api to get updated exchange rate values  \n",
    "    \n",
    "    # Update your access_key by replacing 'ACCESS_KEY'\n",
    "    # Use can get your free access key by registering in fixer.io  \n",
    "    url = str.__add__('http://data.fixer.io/api/latest?access_key=', 'ACCESS_KEY' ) \n",
    "    c = Currency_convertor(url) \n",
    "    from_country = input(\"From: \") \n",
    "    to_country = input(\"To : \") \n",
    "    amount = int(input(\"Amount: \")) \n",
    "\n",
    "  # Calling convert fn from Currency_convertor class\n",
    "    c.convert(from_country, to_country, amount) "
   ]
  },
  {
   "cell_type": "code",
   "execution_count": null,
   "metadata": {},
   "outputs": [],
   "source": []
  }
 ],
 "metadata": {
  "kernelspec": {
   "display_name": "Python 3",
   "language": "python",
   "name": "python3"
  },
  "language_info": {
   "codemirror_mode": {
    "name": "ipython",
    "version": 3
   },
   "file_extension": ".py",
   "mimetype": "text/x-python",
   "name": "python",
   "nbconvert_exporter": "python",
   "pygments_lexer": "ipython3",
   "version": "3.8.3"
  }
 },
 "nbformat": 4,
 "nbformat_minor": 4
}
